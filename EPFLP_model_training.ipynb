{
 "cells": [
  {
   "cell_type": "code",
   "execution_count": 1,
   "metadata": {
    "id": "hgMTtrdH5ezq"
   },
   "outputs": [],
   "source": [
    "import matplotlib.pyplot as plt\n",
    "import seaborn as sns\n",
    "import numpy as np\n",
    "import pandas as pd\n",
    "import os\n",
    "import pickle\n",
    "import mne"
   ]
  },
  {
   "cell_type": "code",
   "execution_count": 2,
   "metadata": {
    "colab": {
     "base_uri": "https://localhost:8080/"
    },
    "id": "dMcd_K1Vt8ka",
    "outputId": "6af12839-0eb3-4279-e075-2135e5cb354a"
   },
   "outputs": [
    {
     "name": "stdout",
     "output_type": "stream",
     "text": [
      "C:\\Users\\Admin\\Documents\\BMI_mid_project\\MOABB_ERP_data\n"
     ]
    }
   ],
   "source": [
    "cd MOABB_ERP_data/"
   ]
  },
  {
   "cell_type": "code",
   "execution_count": 3,
   "metadata": {
    "id": "rFJa5cvf5ez_"
   },
   "outputs": [],
   "source": [
    "NU_data   = 'data_allsubjects.pickle'\n",
    "ALS_data  = 'ALSdata.pickle'\n",
    "EPFLP_data = 'EPFLP300.pickle'\n",
    "BNCI_data = 'BNCI2015003.pickle'"
   ]
  },
  {
   "cell_type": "markdown",
   "metadata": {
    "id": "ywWOeceH5e0U"
   },
   "source": [
    "### Load dataset\n",
    "Load EEG data for visualization"
   ]
  },
  {
   "cell_type": "code",
   "execution_count": 4,
   "metadata": {
    "id": "xGQphMnN5e0V"
   },
   "outputs": [],
   "source": [
    "# Datasets\n",
    "itemname = [NU_data, ALS_data, EPFLP_data, BNCI_data]"
   ]
  },
  {
   "cell_type": "code",
   "execution_count": 5,
   "metadata": {
    "colab": {
     "base_uri": "https://localhost:8080/"
    },
    "id": "tzJX0KxBe2dQ",
    "outputId": "be25904f-abf9-4150-b308-be6f62790c01"
   },
   "outputs": [
    {
     "name": "stdout",
     "output_type": "stream",
     "text": [
      "EEG data is 3D numpy array (trials x channels x time samples) ---->\n",
      "Number of subjects in data_allsubjects.pickle: 16\n",
      "Subject 0 : (3982, 16, 76)\n",
      "Subject 1 : (3916, 16, 76)\n",
      "Subject 2 : (2053, 16, 76)\n",
      "Subject 3 : (6516, 16, 76)\n",
      "Subject 4 : (3396, 16, 76)\n",
      "Subject 5 : (3975, 16, 76)\n",
      "Subject 6 : (1163, 16, 76)\n",
      "Subject 7 : (1174, 16, 76)\n",
      "Subject 8 : (4139, 16, 76)\n",
      "Subject 9 : (4047, 16, 76)\n",
      "Subject 10 : (4060, 16, 76)\n",
      "Subject 11 : (4067, 16, 76)\n",
      "Subject 12 : (4083, 16, 76)\n",
      "Subject 13 : (4024, 16, 76)\n",
      "Subject 14 : (2263, 16, 76)\n",
      "Subject 15 : (3809, 16, 76)\n",
      "Total : ( 56667 , 16 , 76 )\n",
      " \n",
      "EEG data is 3D numpy array (trials x channels x time samples) ---->\n",
      "Number of subjects in ALSdata.pickle: 8\n",
      "Subject 0 : (4200, 8, 78)\n",
      "Subject 1 : (4200, 8, 78)\n",
      "Subject 2 : (4200, 8, 78)\n",
      "Subject 3 : (4200, 8, 78)\n",
      "Subject 4 : (4200, 8, 78)\n",
      "Subject 5 : (4200, 8, 78)\n",
      "Subject 6 : (4200, 8, 78)\n",
      "Subject 7 : (4200, 8, 78)\n",
      "Total : ( 33600 , 8 , 78 )\n",
      " \n",
      "EEG data is 3D numpy array (trials x channels x time samples) ---->\n",
      "Number of subjects in EPFLP300.pickle: 8\n",
      "Subject 0 : (3342, 32, 77)\n",
      "Subject 1 : (3324, 32, 77)\n",
      "Subject 2 : (3342, 32, 77)\n",
      "Subject 3 : (3318, 32, 77)\n",
      "Subject 4 : (3300, 32, 77)\n",
      "Subject 5 : (3372, 32, 77)\n",
      "Subject 6 : (3336, 32, 77)\n",
      "Subject 7 : (3306, 32, 77)\n",
      "Total : ( 26640 , 32 , 77 )\n",
      " \n",
      "EEG data is 3D numpy array (trials x channels x time samples) ---->\n",
      "Number of subjects in BNCI2015003.pickle: 10\n",
      "Subject 0 : (5400, 8, 128)\n",
      "Subject 1 : (5400, 8, 128)\n",
      "Subject 2 : (1800, 8, 128)\n",
      "Subject 3 : (1800, 8, 128)\n",
      "Subject 4 : (1800, 8, 128)\n",
      "Subject 5 : (1800, 8, 128)\n",
      "Subject 6 : (1800, 8, 128)\n",
      "Subject 7 : (1800, 8, 128)\n",
      "Subject 8 : (1800, 8, 128)\n",
      "Subject 9 : (1800, 8, 128)\n",
      "Total : ( 25200 , 8 , 128 )\n",
      " \n"
     ]
    }
   ],
   "source": [
    "def loaddata(filename):\n",
    "    with open(filename, 'rb') as handle:\n",
    "        data = pickle.load(handle)\n",
    "    return data\n",
    "\n",
    "import pickle\n",
    "\n",
    "for item in itemname:\n",
    "    filename = item\n",
    "    data = loaddata(filename)\n",
    "    print('EEG data is 3D numpy array (trials x channels x time samples) ---->')\n",
    "    print('Number of subjects in %s: %d' % (item, len(data)))\n",
    "    count = 0\n",
    "    for subject in range(len(data)):\n",
    "        print('Subject', subject, ':', data[subject].get_data().shape)\n",
    "        count += data[subject].get_data().shape[0]\n",
    "    print('Total : (', count, ',', data[subject].get_data().shape[1], ',', \n",
    "          data[subject].get_data().shape[2], ')')\n",
    "    print(\" \")"
   ]
  },
  {
   "cell_type": "markdown",
   "metadata": {
    "id": "ESW18j6d5oCh"
   },
   "source": [
    "\n",
    "BNCI Data info \n",
    "---\n",
    "\n"
   ]
  },
  {
   "cell_type": "code",
   "execution_count": 64,
   "metadata": {},
   "outputs": [],
   "source": [
    "data = loaddata(itemname[2])"
   ]
  },
  {
   "cell_type": "code",
   "execution_count": 60,
   "metadata": {
    "colab": {
     "base_uri": "https://localhost:8080/"
    },
    "id": "PTF83oNx5e0b",
    "outputId": "1dca28a3-e4ca-4f0d-eea4-eba8b381c622"
   },
   "outputs": [
    {
     "name": "stdout",
     "output_type": "stream",
     "text": [
      "<Epochs |  3342 events (all good), 0 - 0.59375 sec, baseline off, ~62.9 MB, data loaded,\n",
      " 'Target': 557\n",
      " 'NonTarget': 2785>\n"
     ]
    }
   ],
   "source": [
    "# select data from a specific subject and use it for demostration\n",
    "subject = 0\n",
    "s1 = data[subject] # s1['Target']\n",
    "print(s1)"
   ]
  },
  {
   "cell_type": "code",
   "execution_count": 61,
   "metadata": {},
   "outputs": [
    {
     "data": {
      "image/png": "[encoded data removed]",
      "text/plain": [
       "<Figure size 640x640 with 1 Axes>"
      ]
     },
     "metadata": {},
     "output_type": "display_data"
    }
   ],
   "source": [
    "s1.plot_sensors(title = 'EEG sensor locations and labels', show_names = True);"
   ]
  },
  {
   "cell_type": "markdown",
   "metadata": {
    "id": "RxfsHFyM5e0i"
   },
   "source": [
    "### Apply common-average reference"
   ]
  },
  {
   "cell_type": "markdown",
   "metadata": {
    "id": "uTYuy61i5e0t"
   },
   "source": [
    "### Band-pass filter\n"
   ]
  },
  {
   "cell_type": "markdown",
   "metadata": {
    "id": "3Bbi5m9Y5e1G"
   },
   "source": [
    "## Scikit-learn"
   ]
  },
  {
   "cell_type": "code",
   "execution_count": 73,
   "metadata": {
    "id": "7DywRfU9e2dc"
   },
   "outputs": [],
   "source": [
    "from sklearn.svm import LinearSVC, SVC\n",
    "from sklearn.preprocessing import StandardScaler\n",
    "from sklearn.pipeline import make_pipeline\n",
    "from sklearn.model_selection import cross_val_score, cross_validate, train_test_split\n",
    "from sklearn.model_selection import KFold, StratifiedKFold, ShuffleSplit, GridSearchCV, LeaveOneOut\n",
    "from sklearn.metrics import classification_report, accuracy_score, f1_score, confusion_matrix, explained_variance_score\n",
    "\n",
    "from sklearn.linear_model import LogisticRegression\n",
    "from sklearn.ensemble import RandomForestClassifier\n",
    "from sklearn.neighbors import KNeighborsClassifier\n",
    "from sklearn.neural_network import MLPClassifier\n",
    "from sklearn.tree import DecisionTreeClassifier\n",
    "from sklearn.discriminant_analysis import LinearDiscriminantAnalysis\n",
    "\n",
    "\n",
    "import warnings\n",
    "warnings.filterwarnings(\"ignore\")"
   ]
  },
  {
   "cell_type": "code",
   "execution_count": 9,
   "metadata": {
    "id": "-mXnpdj1xGs_"
   },
   "outputs": [],
   "source": [
    "#==============================\n",
    "# Binary Classification setting: \n",
    "#=============================\n",
    "# Y = 1 => Target Stimulus (a character/letter in the matrix that a user wants to spell) \n",
    "# Y = 0 => Non-Target Stimulus"
   ]
  },
  {
   "cell_type": "code",
   "execution_count": 10,
   "metadata": {
    "colab": {
     "base_uri": "https://localhost:8080/"
    },
    "id": "HMH9--g2e2dc",
    "outputId": "f20c2a92-38d3-47c3-fa39-6ef039c40c0c"
   },
   "outputs": [],
   "source": [
    "# Alternative way:\n",
    "\n",
    "# X, Y = [], []     \n",
    "\n",
    "# X = np.concatenate([target.get_data(), nontarget.get_data()])            \n",
    "# Y = np.concatenate([np.ones(target.get_data().shape[0]), np.zeros(nontarget.get_data().shape[0])])  \n",
    "# ------------------------------------------------------------------------------"
   ]
  },
  {
   "cell_type": "code",
   "execution_count": 65,
   "metadata": {},
   "outputs": [],
   "source": [
    "X,y = [],[]\n",
    "\n",
    "for i in range(len(data)):\n",
    "    #data[i] = data[i].set_eeg_reference(ref_channels='average')\n",
    "    epoch = data[i].pick_types(eeg=True)\n",
    "    d = epoch.get_data()\n",
    "    X.append(d)    \n",
    "    l = epoch.events[:, -1]\n",
    "    y.append(l)"
   ]
  },
  {
   "cell_type": "code",
   "execution_count": 66,
   "metadata": {},
   "outputs": [],
   "source": [
    "nX = np.concatenate(X)\n",
    "nX = np.reshape(nX,[26640, 32*77])"
   ]
  },
  {
   "cell_type": "code",
   "execution_count": 67,
   "metadata": {},
   "outputs": [],
   "source": [
    "nY = np.empty(shape = y[0].shape)\n",
    "for i in range(len(y)):\n",
    "    nY = np.concatenate([nY,y[i]])\n",
    "nY = np.concatenate(y)"
   ]
  },
  {
   "cell_type": "code",
   "execution_count": 68,
   "metadata": {},
   "outputs": [
    {
     "name": "stdout",
     "output_type": "stream",
     "text": [
      "(26640, 2464)\n",
      "(26640,)\n"
     ]
    }
   ],
   "source": [
    "print(nX.shape)\n",
    "print(nY.shape)"
   ]
  },
  {
   "cell_type": "code",
   "execution_count": 69,
   "metadata": {
    "colab": {
     "base_uri": "https://localhost:8080/"
    },
    "id": "BX5Frw89yF_f",
    "outputId": "76f3c6f3-ba9c-4781-98cb-7315f551e499"
   },
   "outputs": [
    {
     "name": "stdout",
     "output_type": "stream",
     "text": [
      "Train dataset\n",
      "(21312, 2464)\n",
      "(21312,)\n",
      " \n",
      "Validation dataset\n",
      "(2664, 2464)\n",
      "(2664,)\n",
      " \n",
      "Test dataset\n",
      "(2664, 2464)\n",
      "(2664,)\n"
     ]
    },
    {
     "data": {
      "text/plain": [
       "(None, None)"
      ]
     },
     "execution_count": 69,
     "metadata": {},
     "output_type": "execute_result"
    }
   ],
   "source": [
    "# To split the data in 80:10:10 for train:valid:test dataset\n",
    "# First, I will split the data in training and remaining temporary dataset\n",
    "X_train, X_temp, y_train, y_temp = train_test_split(nX, nY, train_size = 0.8, random_state=42, stratify = nY)\n",
    "\n",
    "# Second, I will divide the remaining temp dataset 50 by 50\n",
    "X_valid, X_test, y_valid, y_test = train_test_split(X_temp, y_temp, test_size = 0.5, random_state=42)\n",
    "\n",
    "print(\"Train dataset\")\n",
    "print(X_train.shape), print(y_train.shape)\n",
    "print(\" \")\n",
    "print(\"Validation dataset\")\n",
    "print(X_valid.shape), print(y_valid.shape)\n",
    "print(\" \")\n",
    "print(\"Test dataset\")\n",
    "print(X_test.shape), print(y_test.shape)"
   ]
  },
  {
   "cell_type": "markdown",
   "metadata": {
    "id": "y8NnumqGe2dc"
   },
   "source": [
    "## Vectorizer()"
   ]
  },
  {
   "cell_type": "code",
   "execution_count": 16,
   "metadata": {
    "colab": {
     "base_uri": "https://localhost:8080/"
    },
    "id": "uAhdwxo9e2dc",
    "outputId": "41f64e39-97ed-4c60-cbef-d9764ad7072c"
   },
   "outputs": [],
   "source": [
    "from mne.decoding import Vectorizer\n",
    "from datetime import datetime as dt"
   ]
  },
  {
   "cell_type": "code",
   "execution_count": 70,
   "metadata": {},
   "outputs": [],
   "source": [
    "def convert(seconds):\n",
    "    seconds = seconds % (24 * 3600)\n",
    "    hour = seconds // 3600\n",
    "    seconds %= 3600\n",
    "    minutes = seconds // 60\n",
    "    seconds %= 60\n",
    "     \n",
    "    return \"Time taken:  %d h : %02d mins : %02d secs\" % (hour, minutes, seconds)"
   ]
  },
  {
   "cell_type": "markdown",
   "metadata": {},
   "source": [
    "## Simple Model Training"
   ]
  },
  {
   "cell_type": "code",
   "execution_count": 18,
   "metadata": {},
   "outputs": [],
   "source": [
    "classifiers = {\n",
    "    \"KNN\": KNeighborsClassifier(n_neighbors=9, weights='distance'), \n",
    "    \"LR\": LogisticRegression(solver='lbfgs', max_iter = 1000), \n",
    "    \"LDA\": LinearDiscriminantAnalysis(),\n",
    "    #\"DT\": DecisionTreeClassifier(),\n",
    "    \"RF\": RandomForestClassifier(n_estimators=100),\n",
    "    \"SVM\": SVC(max_iter=10000),\n",
    "    \"MLP\": MLPClassifier(activation='relu', solver='adam', max_iter=500)\n",
    "}"
   ]
  },
  {
   "cell_type": "code",
   "execution_count": 19,
   "metadata": {},
   "outputs": [],
   "source": [
    "def evaluate_models(models, X_train, X_valid, y_train, y_valid):\n",
    "    results = pd.DataFrame(columns=[\"Classifier\", \"Train_Acc\", \"Valid_Acc\"])\n",
    "    for name, model in models.items():\n",
    "        model.fit(X_train, y_train)\n",
    "        train_acc = model.score(X_train, y_train)\n",
    "        valid_acc = model.score(X_valid, y_valid)\n",
    "        results = results.append({\n",
    "            \"Classifier\": name,\n",
    "            \"Train_Acc\": train_acc,\n",
    "            \"Valid_Acc\": valid_acc\n",
    "        }, ignore_index=True) \n",
    "        \n",
    "        print('%s : Train/Valid Acc: %.3f/%.3f' % (name, train_acc, valid_acc))  \n",
    "    print(results)\n",
    "    return results"
   ]
  },
  {
   "cell_type": "code",
   "execution_count": 20,
   "metadata": {},
   "outputs": [
    {
     "name": "stdout",
     "output_type": "stream",
     "text": [
      "KNN : Train/Valid Acc: 1.000/0.837\n",
      "LR : Train/Valid Acc: 0.658/0.636\n",
      "LDA : Train/Valid Acc: 0.845/0.841\n",
      "RF : Train/Valid Acc: 1.000/0.839\n",
      "SVM : Train/Valid Acc: 0.834/0.837\n",
      "MLP : Train/Valid Acc: 0.811/0.812\n",
      "  Classifier  Train_Acc  Valid_Acc\n",
      "0        KNN   1.000000   0.837087\n",
      "1         LR   0.658361   0.635886\n",
      "2        LDA   0.845439   0.840841\n",
      "3         RF   0.999953   0.839339\n",
      "4        SVM   0.833568   0.837462\n",
      "5        MLP   0.811139   0.812312\n",
      "Time taken:  0 h : 11 mins : 21 secs\n"
     ]
    }
   ],
   "source": [
    "start = dt.now()\n",
    "\n",
    "res_models = evaluate_models(classifiers, X_train, X_valid, y_train, y_valid)\n",
    "\n",
    "running_secs = (dt.now() - start).seconds\n",
    "print(convert(running_secs))\n",
    "\n",
    "#results"
   ]
  },
  {
   "cell_type": "code",
   "execution_count": 21,
   "metadata": {},
   "outputs": [
    {
     "name": "stdout",
     "output_type": "stream",
     "text": [
      "  Classifier  Train_Acc  Valid_Acc\n",
      "0        KNN   1.000000   0.837087\n",
      "1         LR   0.658361   0.635886\n",
      "2        LDA   0.845439   0.840841\n",
      "3         RF   0.999953   0.839339\n",
      "4        SVM   0.833568   0.837462\n",
      "5        MLP   0.811139   0.812312\n"
     ]
    }
   ],
   "source": [
    "print(res_models)"
   ]
  },
  {
   "cell_type": "code",
   "execution_count": 74,
   "metadata": {},
   "outputs": [],
   "source": [
    "def evaluate_models2222(models, X_train, X_valid, y_train, y_valid):\n",
    "    results = pd.DataFrame(columns=[\"Classifier\", \"Train_Acc\", \"Valid_Acc\", \"Valid_f1\", \"Valid_variance\"])\n",
    "    for name, model in models.items():\n",
    "        model.fit(X_train, y_train)\n",
    "        train_acc = model.score(X_train, y_train)\n",
    "        valid_acc = model.score(X_valid, y_valid)\n",
    "        y_pred = model.predict(X_valid)\n",
    "        f1score = f1_score(y_valid,y_pred)\n",
    "        val = explained_variance_score(y_valid,y_pred)\n",
    "        results = results.append({\n",
    "            \"Classifier\": name,\n",
    "            \"Train_Acc\": train_acc,\n",
    "            \"Valid_Acc\": valid_acc,\n",
    "            \"Valid_f1\": f1score,\n",
    "            \"Valid_variance\": val\n",
    "        }, ignore_index=True) \n",
    "        \n",
    "        print('%s : Train/Valid_Acc/F1/Variance: %.3f/%.3f/%.3f/%.3f' % (name, train_acc, valid_acc, f1score, val))  \n",
    "    return results"
   ]
  },
  {
   "cell_type": "code",
   "execution_count": 75,
   "metadata": {},
   "outputs": [
    {
     "name": "stdout",
     "output_type": "stream",
     "text": [
      "KNN : Train/Valid_Acc/F1/Variance: 1.000/0.837/0.910/-0.063\n",
      "LR : Train/Valid_Acc/F1/Variance: 0.658/0.636/0.757/-1.454\n",
      "LDA : Train/Valid_Acc/F1/Variance: 0.845/0.841/0.911/-0.070\n",
      "RF : Train/Valid_Acc/F1/Variance: 1.000/0.838/0.911/-0.017\n",
      "SVM : Train/Valid_Acc/F1/Variance: 0.834/0.837/0.912/0.000\n",
      "MLP : Train/Valid_Acc/F1/Variance: 0.810/0.812/0.895/-0.273\n",
      "Time taken:  0 h : 12 mins : 12 secs\n"
     ]
    }
   ],
   "source": [
    "start = dt.now()\n",
    "\n",
    "res_models2222 = evaluate_models2222(classifiers, X_train, X_valid, y_train, y_valid)\n",
    "\n",
    "running_secs = (dt.now() - start).seconds\n",
    "print(convert(running_secs))"
   ]
  },
  {
   "cell_type": "code",
   "execution_count": 76,
   "metadata": {},
   "outputs": [
    {
     "data": {
      "text/html": [
       "<div>\n",
       "<style scoped>\n",
       "    .dataframe tbody tr th:only-of-type {\n",
       "        vertical-align: middle;\n",
       "    }\n",
       "\n",
       "    .dataframe tbody tr th {\n",
       "        vertical-align: top;\n",
       "    }\n",
       "\n",
       "    .dataframe thead th {\n",
       "        text-align: right;\n",
       "    }\n",
       "</style>\n",
       "<table border=\"1\" class=\"dataframe\">\n",
       "  <thead>\n",
       "    <tr style=\"text-align: right;\">\n",
       "      <th></th>\n",
       "      <th>Classifier</th>\n",
       "      <th>Train_Acc</th>\n",
       "      <th>Valid_Acc</th>\n",
       "      <th>Valid_f1</th>\n",
       "      <th>Valid_variance</th>\n",
       "    </tr>\n",
       "  </thead>\n",
       "  <tbody>\n",
       "    <tr>\n",
       "      <th>0</th>\n",
       "      <td>KNN</td>\n",
       "      <td>1.000000</td>\n",
       "      <td>0.837087</td>\n",
       "      <td>0.909996</td>\n",
       "      <td>-0.062683</td>\n",
       "    </tr>\n",
       "    <tr>\n",
       "      <th>1</th>\n",
       "      <td>LR</td>\n",
       "      <td>0.658361</td>\n",
       "      <td>0.635886</td>\n",
       "      <td>0.757500</td>\n",
       "      <td>-1.454016</td>\n",
       "    </tr>\n",
       "    <tr>\n",
       "      <th>2</th>\n",
       "      <td>LDA</td>\n",
       "      <td>0.845439</td>\n",
       "      <td>0.840841</td>\n",
       "      <td>0.911148</td>\n",
       "      <td>-0.069784</td>\n",
       "    </tr>\n",
       "    <tr>\n",
       "      <th>3</th>\n",
       "      <td>RF</td>\n",
       "      <td>0.999953</td>\n",
       "      <td>0.838213</td>\n",
       "      <td>0.911481</td>\n",
       "      <td>-0.017093</td>\n",
       "    </tr>\n",
       "    <tr>\n",
       "      <th>4</th>\n",
       "      <td>SVM</td>\n",
       "      <td>0.833568</td>\n",
       "      <td>0.837462</td>\n",
       "      <td>0.911542</td>\n",
       "      <td>0.000000</td>\n",
       "    </tr>\n",
       "    <tr>\n",
       "      <th>5</th>\n",
       "      <td>MLP</td>\n",
       "      <td>0.809966</td>\n",
       "      <td>0.812312</td>\n",
       "      <td>0.895441</td>\n",
       "      <td>-0.272848</td>\n",
       "    </tr>\n",
       "  </tbody>\n",
       "</table>\n",
       "</div>"
      ],
      "text/plain": [
       "  Classifier  Train_Acc  Valid_Acc  Valid_f1  Valid_variance\n",
       "0        KNN   1.000000   0.837087  0.909996       -0.062683\n",
       "1         LR   0.658361   0.635886  0.757500       -1.454016\n",
       "2        LDA   0.845439   0.840841  0.911148       -0.069784\n",
       "3         RF   0.999953   0.838213  0.911481       -0.017093\n",
       "4        SVM   0.833568   0.837462  0.911542        0.000000\n",
       "5        MLP   0.809966   0.812312  0.895441       -0.272848"
      ]
     },
     "execution_count": 76,
     "metadata": {},
     "output_type": "execute_result"
    }
   ],
   "source": [
    "res_models2222"
   ]
  },
  {
   "cell_type": "code",
   "execution_count": 22,
   "metadata": {},
   "outputs": [
    {
     "data": {
      "image/png": "[encoded data removed]",
      "text/plain": [
       "<Figure size 500x300 with 1 Axes>"
      ]
     },
     "metadata": {},
     "output_type": "display_data"
    }
   ],
   "source": [
    "plt.figure(figsize=(5,3))\n",
    "sns.barplot(data=res_models, x=\"Valid_Acc\", y=\"Classifier\")\n",
    "plt.title(\"Overall Validation Score\")\n",
    "plt.show()"
   ]
  },
  {
   "cell_type": "markdown",
   "metadata": {},
   "source": [
    "## Model training with CV"
   ]
  },
  {
   "cell_type": "code",
   "execution_count": 23,
   "metadata": {},
   "outputs": [],
   "source": [
    "cross_val = {\n",
    "    \"Simple_5\": 5,\n",
    "    \"Stratified\": StratifiedKFold(n_splits=5),\n",
    "    \"Shuffled\": ShuffleSplit(n_splits=5, test_size=.2)   \n",
    "}"
   ]
  },
  {
   "cell_type": "code",
   "execution_count": 24,
   "metadata": {},
   "outputs": [],
   "source": [
    "def evaluate_models_with_CV(models, cv, X, y):\n",
    "    results = pd.DataFrame(columns=[\"Classifier\", \"Simple_5\", \"Stratified\", \"Shuffled\"])\n",
    "    for name, model in models.items():\n",
    "        print('%s model training started -------------------->' % name) \n",
    "        scores = []\n",
    "        for cv_name, cv in cross_val.items():\n",
    "            mean_score = np.mean(cross_val_score(model, nX, nY, cv = cv)) \n",
    "            scores.append(mean_score)\n",
    "            print('%s is finished' % cv_name) \n",
    "        results = results.append({\n",
    "            \"Classifier\": name,\n",
    "            \"Simple_5\": scores[0],  \n",
    "            \"Stratified\": scores[1], \n",
    "            \"Shuffled\": scores[2] \n",
    "        }, ignore_index=True)\n",
    "        print(\" \")\n",
    "    return results"
   ]
  },
  {
   "cell_type": "code",
   "execution_count": 25,
   "metadata": {},
   "outputs": [
    {
     "name": "stdout",
     "output_type": "stream",
     "text": [
      "KNN model training started -------------------->\n",
      "Simple_5 is finished\n",
      "Stratified is finished\n",
      "Shuffled is finished\n",
      " \n",
      "LR model training started -------------------->\n",
      "Simple_5 is finished\n",
      "Stratified is finished\n",
      "Shuffled is finished\n",
      " \n",
      "LDA model training started -------------------->\n",
      "Simple_5 is finished\n",
      "Stratified is finished\n",
      "Shuffled is finished\n",
      " \n",
      "RF model training started -------------------->\n",
      "Simple_5 is finished\n",
      "Stratified is finished\n",
      "Shuffled is finished\n",
      " \n",
      "SVM model training started -------------------->\n",
      "Simple_5 is finished\n",
      "Stratified is finished\n",
      "Shuffled is finished\n",
      " \n",
      "MLP model training started -------------------->\n",
      "Simple_5 is finished\n",
      "Stratified is finished\n",
      "Shuffled is finished\n",
      " \n",
      "Time taken:  2 h : 03 mins : 26 secs\n"
     ]
    }
   ],
   "source": [
    "start = dt.now()\n",
    "\n",
    "res_CV = evaluate_models_with_CV(classifiers, cross_val, nX, nY)\n",
    "\n",
    "running_secs = (dt.now() - start).seconds\n",
    "print(convert(running_secs))"
   ]
  },
  {
   "cell_type": "code",
   "execution_count": 29,
   "metadata": {},
   "outputs": [
    {
     "data": {
      "text/html": [
       "<div>\n",
       "<style scoped>\n",
       "    .dataframe tbody tr th:only-of-type {\n",
       "        vertical-align: middle;\n",
       "    }\n",
       "\n",
       "    .dataframe tbody tr th {\n",
       "        vertical-align: top;\n",
       "    }\n",
       "\n",
       "    .dataframe thead th {\n",
       "        text-align: right;\n",
       "    }\n",
       "</style>\n",
       "<table border=\"1\" class=\"dataframe\">\n",
       "  <thead>\n",
       "    <tr style=\"text-align: right;\">\n",
       "      <th></th>\n",
       "      <th>Classifier</th>\n",
       "      <th>Simple_5</th>\n",
       "      <th>Stratified</th>\n",
       "      <th>Shuffled</th>\n",
       "    </tr>\n",
       "  </thead>\n",
       "  <tbody>\n",
       "    <tr>\n",
       "      <th>0</th>\n",
       "      <td>KNN</td>\n",
       "      <td>0.828153</td>\n",
       "      <td>0.828153</td>\n",
       "      <td>0.828078</td>\n",
       "    </tr>\n",
       "    <tr>\n",
       "      <th>1</th>\n",
       "      <td>LR</td>\n",
       "      <td>0.603378</td>\n",
       "      <td>0.603378</td>\n",
       "      <td>0.641441</td>\n",
       "    </tr>\n",
       "    <tr>\n",
       "      <th>2</th>\n",
       "      <td>LDA</td>\n",
       "      <td>0.811411</td>\n",
       "      <td>0.811411</td>\n",
       "      <td>0.829429</td>\n",
       "    </tr>\n",
       "    <tr>\n",
       "      <th>3</th>\n",
       "      <td>RF</td>\n",
       "      <td>0.827477</td>\n",
       "      <td>0.826314</td>\n",
       "      <td>0.833183</td>\n",
       "    </tr>\n",
       "    <tr>\n",
       "      <th>4</th>\n",
       "      <td>SVM</td>\n",
       "      <td>0.833333</td>\n",
       "      <td>0.833333</td>\n",
       "      <td>0.829429</td>\n",
       "    </tr>\n",
       "    <tr>\n",
       "      <th>5</th>\n",
       "      <td>MLP</td>\n",
       "      <td>0.724062</td>\n",
       "      <td>0.774925</td>\n",
       "      <td>0.721471</td>\n",
       "    </tr>\n",
       "  </tbody>\n",
       "</table>\n",
       "</div>"
      ],
      "text/plain": [
       "  Classifier  Simple_5  Stratified  Shuffled\n",
       "0        KNN  0.828153    0.828153  0.828078\n",
       "1         LR  0.603378    0.603378  0.641441\n",
       "2        LDA  0.811411    0.811411  0.829429\n",
       "3         RF  0.827477    0.826314  0.833183\n",
       "4        SVM  0.833333    0.833333  0.829429\n",
       "5        MLP  0.724062    0.774925  0.721471"
      ]
     },
     "execution_count": 29,
     "metadata": {},
     "output_type": "execute_result"
    }
   ],
   "source": [
    "res_CV"
   ]
  },
  {
   "cell_type": "markdown",
   "metadata": {},
   "source": [
    "## Model training with Vectorizer() and StandardScaler()"
   ]
  },
  {
   "cell_type": "code",
   "execution_count": 30,
   "metadata": {},
   "outputs": [],
   "source": [
    "def evaluate_models_with_normalization(models, X_train, X_valid, y_train, y_valid):\n",
    "    results = pd.DataFrame(columns=[\"Classifier\", \"Train_Acc\", \"Valid_Acc\"])\n",
    "    for name, model in models.items():\n",
    "        model = make_pipeline(Vectorizer(), StandardScaler(), model)\n",
    "        model.fit(X_train,y_train)\n",
    "        y_pred = model.predict(X_valid)\n",
    "        valid_acc = accuracy_score(y_valid,y_pred)\n",
    "        train_acc = model.score(X_train, y_train)\n",
    "\n",
    "        results = results.append({\n",
    "            \"Classifier\": name,\n",
    "            \"Train_Acc\": train_acc,\n",
    "            \"Valid_Acc\": valid_acc\n",
    "        }, ignore_index=True) \n",
    "        \n",
    "        print('%s model finished training' % name)\n",
    "    return results"
   ]
  },
  {
   "cell_type": "code",
   "execution_count": 31,
   "metadata": {},
   "outputs": [
    {
     "name": "stdout",
     "output_type": "stream",
     "text": [
      "KNN model finished training\n",
      "LR model finished training\n",
      "LDA model finished training\n",
      "RF model finished training\n",
      "SVM model finished training\n",
      "MLP model finished training\n",
      "Time taken:  0 h : 13 mins : 16 secs\n"
     ]
    }
   ],
   "source": [
    "start = dt.now()\n",
    "\n",
    "res_norm = evaluate_models_with_normalization(classifiers, X_train, X_valid, y_train, y_valid)\n",
    "\n",
    "running_secs = (dt.now() - start).seconds\n",
    "print(convert(running_secs))"
   ]
  },
  {
   "cell_type": "code",
   "execution_count": 32,
   "metadata": {},
   "outputs": [
    {
     "data": {
      "text/html": [
       "<div>\n",
       "<style scoped>\n",
       "    .dataframe tbody tr th:only-of-type {\n",
       "        vertical-align: middle;\n",
       "    }\n",
       "\n",
       "    .dataframe tbody tr th {\n",
       "        vertical-align: top;\n",
       "    }\n",
       "\n",
       "    .dataframe thead th {\n",
       "        text-align: right;\n",
       "    }\n",
       "</style>\n",
       "<table border=\"1\" class=\"dataframe\">\n",
       "  <thead>\n",
       "    <tr style=\"text-align: right;\">\n",
       "      <th></th>\n",
       "      <th>Classifier</th>\n",
       "      <th>Train_Acc</th>\n",
       "      <th>Valid_Acc</th>\n",
       "    </tr>\n",
       "  </thead>\n",
       "  <tbody>\n",
       "    <tr>\n",
       "      <th>0</th>\n",
       "      <td>KNN</td>\n",
       "      <td>1.000000</td>\n",
       "      <td>0.835961</td>\n",
       "    </tr>\n",
       "    <tr>\n",
       "      <th>1</th>\n",
       "      <td>LR</td>\n",
       "      <td>0.833990</td>\n",
       "      <td>0.835961</td>\n",
       "    </tr>\n",
       "    <tr>\n",
       "      <th>2</th>\n",
       "      <td>LDA</td>\n",
       "      <td>0.845439</td>\n",
       "      <td>0.840841</td>\n",
       "    </tr>\n",
       "    <tr>\n",
       "      <th>3</th>\n",
       "      <td>RF</td>\n",
       "      <td>1.000000</td>\n",
       "      <td>0.839715</td>\n",
       "    </tr>\n",
       "    <tr>\n",
       "      <th>4</th>\n",
       "      <td>SVM</td>\n",
       "      <td>0.833568</td>\n",
       "      <td>0.837462</td>\n",
       "    </tr>\n",
       "    <tr>\n",
       "      <th>5</th>\n",
       "      <td>MLP</td>\n",
       "      <td>0.833943</td>\n",
       "      <td>0.837462</td>\n",
       "    </tr>\n",
       "  </tbody>\n",
       "</table>\n",
       "</div>"
      ],
      "text/plain": [
       "  Classifier  Train_Acc  Valid_Acc\n",
       "0        KNN   1.000000   0.835961\n",
       "1         LR   0.833990   0.835961\n",
       "2        LDA   0.845439   0.840841\n",
       "3         RF   1.000000   0.839715\n",
       "4        SVM   0.833568   0.837462\n",
       "5        MLP   0.833943   0.837462"
      ]
     },
     "execution_count": 32,
     "metadata": {},
     "output_type": "execute_result"
    }
   ],
   "source": [
    "res_norm"
   ]
  },
  {
   "cell_type": "code",
   "execution_count": 77,
   "metadata": {},
   "outputs": [],
   "source": [
    "def evaluate_models_with_normalization2222(models, X_train, X_valid, y_train, y_valid):\n",
    "    results = pd.DataFrame(columns=[\"Classifier\", \"Train_Acc\", \"Valid_Acc\", \"Valid_f1\", \"Valid_variance\"])\n",
    "    for name, model in models.items():\n",
    "        model = make_pipeline(Vectorizer(), StandardScaler(), model)\n",
    "        model.fit(X_train, y_train)\n",
    "        train_acc = model.score(X_train, y_train)\n",
    "        valid_acc = model.score(X_valid, y_valid)\n",
    "        y_pred = model.predict(X_valid)\n",
    "        f1score = f1_score(y_valid,y_pred)\n",
    "        val = explained_variance_score(y_valid,y_pred)\n",
    "        results = results.append({\n",
    "            \"Classifier\": name,\n",
    "            \"Train_Acc\": train_acc,\n",
    "            \"Valid_Acc\": valid_acc,\n",
    "            \"Valid_f1\": f1score,\n",
    "            \"Valid_variance\": val\n",
    "        }, ignore_index=True) \n",
    "        \n",
    "        print('%s : Train/Valid_Acc/F1/Variance: %.3f/%.3f/%.3f/%.3f' % (name, train_acc, valid_acc, f1score, val))  \n",
    "    return results"
   ]
  },
  {
   "cell_type": "code",
   "execution_count": 78,
   "metadata": {},
   "outputs": [
    {
     "name": "stdout",
     "output_type": "stream",
     "text": [
      "KNN : Train/Valid_Acc/F1/Variance: 1.000/0.836/0.909/-0.072\n",
      "LR : Train/Valid_Acc/F1/Variance: 0.834/0.836/0.911/-0.015\n",
      "LDA : Train/Valid_Acc/F1/Variance: 0.845/0.841/0.911/-0.070\n",
      "RF : Train/Valid_Acc/F1/Variance: 1.000/0.837/0.911/-0.018\n",
      "SVM : Train/Valid_Acc/F1/Variance: 0.834/0.837/0.912/0.000\n",
      "MLP : Train/Valid_Acc/F1/Variance: 0.834/0.837/0.911/-0.004\n",
      "Time taken:  0 h : 12 mins : 23 secs\n"
     ]
    }
   ],
   "source": [
    "start = dt.now()\n",
    "\n",
    "res_norm2222 = evaluate_models_with_normalization2222(classifiers, X_train, X_valid, y_train, y_valid)\n",
    "\n",
    "running_secs = (dt.now() - start).seconds\n",
    "print(convert(running_secs))"
   ]
  },
  {
   "cell_type": "code",
   "execution_count": 79,
   "metadata": {},
   "outputs": [
    {
     "data": {
      "text/html": [
       "<div>\n",
       "<style scoped>\n",
       "    .dataframe tbody tr th:only-of-type {\n",
       "        vertical-align: middle;\n",
       "    }\n",
       "\n",
       "    .dataframe tbody tr th {\n",
       "        vertical-align: top;\n",
       "    }\n",
       "\n",
       "    .dataframe thead th {\n",
       "        text-align: right;\n",
       "    }\n",
       "</style>\n",
       "<table border=\"1\" class=\"dataframe\">\n",
       "  <thead>\n",
       "    <tr style=\"text-align: right;\">\n",
       "      <th></th>\n",
       "      <th>Classifier</th>\n",
       "      <th>Train_Acc</th>\n",
       "      <th>Valid_Acc</th>\n",
       "      <th>Valid_f1</th>\n",
       "      <th>Valid_variance</th>\n",
       "    </tr>\n",
       "  </thead>\n",
       "  <tbody>\n",
       "    <tr>\n",
       "      <th>0</th>\n",
       "      <td>KNN</td>\n",
       "      <td>1.000000</td>\n",
       "      <td>0.835961</td>\n",
       "      <td>0.909355</td>\n",
       "      <td>-0.071700</td>\n",
       "    </tr>\n",
       "    <tr>\n",
       "      <th>1</th>\n",
       "      <td>LR</td>\n",
       "      <td>0.833990</td>\n",
       "      <td>0.835961</td>\n",
       "      <td>0.910652</td>\n",
       "      <td>-0.014600</td>\n",
       "    </tr>\n",
       "    <tr>\n",
       "      <th>2</th>\n",
       "      <td>LDA</td>\n",
       "      <td>0.845439</td>\n",
       "      <td>0.840841</td>\n",
       "      <td>0.911148</td>\n",
       "      <td>-0.069784</td>\n",
       "    </tr>\n",
       "    <tr>\n",
       "      <th>3</th>\n",
       "      <td>RF</td>\n",
       "      <td>0.999953</td>\n",
       "      <td>0.836712</td>\n",
       "      <td>0.910879</td>\n",
       "      <td>-0.017863</td>\n",
       "    </tr>\n",
       "    <tr>\n",
       "      <th>4</th>\n",
       "      <td>SVM</td>\n",
       "      <td>0.833568</td>\n",
       "      <td>0.837462</td>\n",
       "      <td>0.911542</td>\n",
       "      <td>0.000000</td>\n",
       "    </tr>\n",
       "    <tr>\n",
       "      <th>5</th>\n",
       "      <td>MLP</td>\n",
       "      <td>0.833662</td>\n",
       "      <td>0.837087</td>\n",
       "      <td>0.911320</td>\n",
       "      <td>-0.003653</td>\n",
       "    </tr>\n",
       "  </tbody>\n",
       "</table>\n",
       "</div>"
      ],
      "text/plain": [
       "  Classifier  Train_Acc  Valid_Acc  Valid_f1  Valid_variance\n",
       "0        KNN   1.000000   0.835961  0.909355       -0.071700\n",
       "1         LR   0.833990   0.835961  0.910652       -0.014600\n",
       "2        LDA   0.845439   0.840841  0.911148       -0.069784\n",
       "3         RF   0.999953   0.836712  0.910879       -0.017863\n",
       "4        SVM   0.833568   0.837462  0.911542        0.000000\n",
       "5        MLP   0.833662   0.837087  0.911320       -0.003653"
      ]
     },
     "execution_count": 79,
     "metadata": {},
     "output_type": "execute_result"
    }
   ],
   "source": [
    "res_norm2222"
   ]
  },
  {
   "cell_type": "code",
   "execution_count": 33,
   "metadata": {},
   "outputs": [
    {
     "data": {
      "image/png": "[encoded data removed]",
      "text/plain": [
       "<Figure size 500x300 with 1 Axes>"
      ]
     },
     "metadata": {},
     "output_type": "display_data"
    }
   ],
   "source": [
    "plt.figure(figsize=(5,3))\n",
    "sns.barplot(data=res_norm, x=\"Valid_Acc\", y=\"Classifier\")\n",
    "plt.title(\"Overall Validation Score\")\n",
    "plt.show()"
   ]
  },
  {
   "cell_type": "code",
   "execution_count": null,
   "metadata": {},
   "outputs": [],
   "source": []
  },
  {
   "cell_type": "markdown",
   "metadata": {},
   "source": [
    "## Model training with CV and Vectorizer() and StandardScaler()"
   ]
  },
  {
   "cell_type": "code",
   "execution_count": 34,
   "metadata": {},
   "outputs": [],
   "source": [
    "def evaluate_models_with_CV_normal(models, cv, X, y):\n",
    "    results = pd.DataFrame(columns=[\"Classifier\", \"Simple_5\", \"Stratified\", \"Shuffled\"])\n",
    "    for name, model in models.items():\n",
    "        model = make_pipeline(Vectorizer(), StandardScaler(), model)\n",
    "        print('%s model training started -------------------->' % name) \n",
    "        scores = []\n",
    "        for cv_name, cv in cross_val.items():\n",
    "            mean_score = np.mean(cross_val_score(model, nX, nY, cv = cv)) \n",
    "            scores.append(mean_score)\n",
    "            print('%s is finished' % cv_name) \n",
    "        results = results.append({\n",
    "            \"Classifier\": name,\n",
    "            \"Simple_5\": scores[0],  \n",
    "            \"Stratified\": scores[1], \n",
    "            \"Shuffled\": scores[2] \n",
    "        }, ignore_index=True)\n",
    "        print(\" \")\n",
    "    return results"
   ]
  },
  {
   "cell_type": "code",
   "execution_count": 35,
   "metadata": {},
   "outputs": [
    {
     "name": "stdout",
     "output_type": "stream",
     "text": [
      "KNN model training started -------------------->\n",
      "Simple_5 is finished\n",
      "Stratified is finished\n",
      "Shuffled is finished\n",
      " \n",
      "LR model training started -------------------->\n",
      "Simple_5 is finished\n",
      "Stratified is finished\n",
      "Shuffled is finished\n",
      " \n",
      "LDA model training started -------------------->\n",
      "Simple_5 is finished\n",
      "Stratified is finished\n",
      "Shuffled is finished\n",
      " \n",
      "RF model training started -------------------->\n",
      "Simple_5 is finished\n",
      "Stratified is finished\n",
      "Shuffled is finished\n",
      " \n",
      "SVM model training started -------------------->\n",
      "Simple_5 is finished\n",
      "Stratified is finished\n",
      "Shuffled is finished\n",
      " \n",
      "MLP model training started -------------------->\n",
      "Simple_5 is finished\n",
      "Stratified is finished\n",
      "Shuffled is finished\n",
      " \n",
      "Time taken:  12 h : 30 mins : 59 secs\n"
     ]
    }
   ],
   "source": [
    "start = dt.now()\n",
    "\n",
    "res_CV_norm = evaluate_models_with_CV_normal(classifiers, cross_val, nX, nY)\n",
    "\n",
    "running_secs = (dt.now() - start).seconds\n",
    "print(convert(running_secs))"
   ]
  },
  {
   "cell_type": "code",
   "execution_count": 36,
   "metadata": {},
   "outputs": [
    {
     "data": {
      "text/html": [
       "<div>\n",
       "<style scoped>\n",
       "    .dataframe tbody tr th:only-of-type {\n",
       "        vertical-align: middle;\n",
       "    }\n",
       "\n",
       "    .dataframe tbody tr th {\n",
       "        vertical-align: top;\n",
       "    }\n",
       "\n",
       "    .dataframe thead th {\n",
       "        text-align: right;\n",
       "    }\n",
       "</style>\n",
       "<table border=\"1\" class=\"dataframe\">\n",
       "  <thead>\n",
       "    <tr style=\"text-align: right;\">\n",
       "      <th></th>\n",
       "      <th>Classifier</th>\n",
       "      <th>Simple_5</th>\n",
       "      <th>Stratified</th>\n",
       "      <th>Shuffled</th>\n",
       "    </tr>\n",
       "  </thead>\n",
       "  <tbody>\n",
       "    <tr>\n",
       "      <th>0</th>\n",
       "      <td>KNN</td>\n",
       "      <td>0.827628</td>\n",
       "      <td>0.827628</td>\n",
       "      <td>0.832620</td>\n",
       "    </tr>\n",
       "    <tr>\n",
       "      <th>1</th>\n",
       "      <td>LR</td>\n",
       "      <td>0.827965</td>\n",
       "      <td>0.827965</td>\n",
       "      <td>0.832020</td>\n",
       "    </tr>\n",
       "    <tr>\n",
       "      <th>2</th>\n",
       "      <td>LDA</td>\n",
       "      <td>0.811411</td>\n",
       "      <td>0.811411</td>\n",
       "      <td>0.831757</td>\n",
       "    </tr>\n",
       "    <tr>\n",
       "      <th>3</th>\n",
       "      <td>RF</td>\n",
       "      <td>0.827890</td>\n",
       "      <td>0.825300</td>\n",
       "      <td>0.835285</td>\n",
       "    </tr>\n",
       "    <tr>\n",
       "      <th>4</th>\n",
       "      <td>SVM</td>\n",
       "      <td>0.833333</td>\n",
       "      <td>0.833333</td>\n",
       "      <td>0.829805</td>\n",
       "    </tr>\n",
       "    <tr>\n",
       "      <th>5</th>\n",
       "      <td>MLP</td>\n",
       "      <td>0.831494</td>\n",
       "      <td>0.831194</td>\n",
       "      <td>0.830781</td>\n",
       "    </tr>\n",
       "  </tbody>\n",
       "</table>\n",
       "</div>"
      ],
      "text/plain": [
       "  Classifier  Simple_5  Stratified  Shuffled\n",
       "0        KNN  0.827628    0.827628  0.832620\n",
       "1         LR  0.827965    0.827965  0.832020\n",
       "2        LDA  0.811411    0.811411  0.831757\n",
       "3         RF  0.827890    0.825300  0.835285\n",
       "4        SVM  0.833333    0.833333  0.829805\n",
       "5        MLP  0.831494    0.831194  0.830781"
      ]
     },
     "execution_count": 36,
     "metadata": {},
     "output_type": "execute_result"
    }
   ],
   "source": [
    "res_CV_norm"
   ]
  },
  {
   "cell_type": "code",
   "execution_count": 37,
   "metadata": {},
   "outputs": [
    {
     "data": {
      "image/png": "[encoded data removed]",
      "text/plain": [
       "<Figure size 500x300 with 1 Axes>"
      ]
     },
     "metadata": {},
     "output_type": "display_data"
    }
   ],
   "source": [
    "plt.figure(figsize=(5,3))\n",
    "sns.barplot(data=res_CV_norm, x=\"Simple_5\", y=\"Classifier\")\n",
    "plt.title(\"Simple CV=5 Score\")\n",
    "plt.show()"
   ]
  },
  {
   "cell_type": "code",
   "execution_count": 38,
   "metadata": {},
   "outputs": [
    {
     "data": {
      "image/png": "[encoded data removed]",
      "text/plain": [
       "<Figure size 500x300 with 1 Axes>"
      ]
     },
     "metadata": {},
     "output_type": "display_data"
    }
   ],
   "source": [
    "plt.figure(figsize=(5,3))\n",
    "sns.barplot(data=res_CV_norm, x=\"Stratified\", y=\"Classifier\")\n",
    "plt.title(\"Stratified K-Fold Score\")\n",
    "plt.show()"
   ]
  },
  {
   "cell_type": "code",
   "execution_count": 39,
   "metadata": {},
   "outputs": [
    {
     "data": {
      "image/png": "[encoded data removed]",
      "text/plain": [
       "<Figure size 500x300 with 1 Axes>"
      ]
     },
     "metadata": {},
     "output_type": "display_data"
    }
   ],
   "source": [
    "plt.figure(figsize=(5,3))\n",
    "sns.barplot(data=res_CV_norm, x=\"Shuffled\", y=\"Classifier\")\n",
    "plt.title(\"Shuffled CV Score\")\n",
    "plt.show()"
   ]
  },
  {
   "cell_type": "markdown",
   "metadata": {},
   "source": [
    "## Model training with Ensemble Learning"
   ]
  },
  {
   "cell_type": "code",
   "execution_count": 40,
   "metadata": {},
   "outputs": [],
   "source": [
    "from sklearn.ensemble import VotingClassifier"
   ]
  },
  {
   "cell_type": "code",
   "execution_count": 43,
   "metadata": {},
   "outputs": [],
   "source": [
    "def get_models2():\n",
    "    models = list()\n",
    "    models.append(('lda',LinearDiscriminantAnalysis()))\n",
    "    models.append(('svc',SVC(probability=True)))\n",
    "    models.append(('rf', RandomForestClassifier(n_estimators=100)))\n",
    "    return models\n",
    "\n",
    "def evaluate_models2(models,X_train,X_val,y_train,y_val):\n",
    "    scores = list()\n",
    "    for name, model in models:\n",
    "        model.fit(X_train,y_train)\n",
    "        yhat = model.predict(X_val)\n",
    "        acc = accuracy_score(y_val,yhat)\n",
    "        scores.append(acc)\n",
    "    return scores"
   ]
  },
  {
   "cell_type": "code",
   "execution_count": 44,
   "metadata": {},
   "outputs": [],
   "source": [
    "models = get_models2()\n",
    "scores = evaluate_models2(models, X_train, X_test, y_train, y_test)"
   ]
  },
  {
   "cell_type": "code",
   "execution_count": 45,
   "metadata": {},
   "outputs": [
    {
     "name": "stdout",
     "output_type": "stream",
     "text": [
      "Weighted Avg Accuracy: 82.808\n"
     ]
    }
   ],
   "source": [
    "ensemble = VotingClassifier(estimators=models, voting='soft', weights=scores)\n",
    "ensemble.fit(X_train, y_train)\n",
    "y_pred = ensemble.predict(X_test)\n",
    "score = accuracy_score(y_test, y_pred)\n",
    "print('Weighted Avg Accuracy: %.3f' % (score*100))"
   ]
  },
  {
   "cell_type": "markdown",
   "metadata": {},
   "source": [
    "# Subject Specific"
   ]
  },
  {
   "cell_type": "markdown",
   "metadata": {},
   "source": [
    "## Model training with normalization and vectorizer()"
   ]
  },
  {
   "cell_type": "code",
   "execution_count": 46,
   "metadata": {},
   "outputs": [],
   "source": [
    "def get_subject_data(subject):\n",
    "    epochs = subject.pick_types(eeg=True)\n",
    "    X = epochs.get_data()\n",
    "    y = epochs.events[:, -1]\n",
    "    return X, y"
   ]
  },
  {
   "cell_type": "code",
   "execution_count": 81,
   "metadata": {},
   "outputs": [],
   "source": [
    "classifiers = { \n",
    "    \"LDA\": LinearDiscriminantAnalysis(),\n",
    "    \"RF\": RandomForestClassifier(n_estimators=100),\n",
    "    \"SVM\": SVC(max_iter=10000)\n",
    "}"
   ]
  },
  {
   "cell_type": "code",
   "execution_count": 82,
   "metadata": {},
   "outputs": [],
   "source": [
    "X, y = get_subject_data(s1)"
   ]
  },
  {
   "cell_type": "code",
   "execution_count": 83,
   "metadata": {},
   "outputs": [
    {
     "name": "stdout",
     "output_type": "stream",
     "text": [
      "Started Subject 1 data training -------------->\n",
      "LDA : Train/Valid_Acc/F1/Variance: 0.960/0.800/0.879/-0.446\n",
      "RF : Train/Valid_Acc/F1/Variance: 1.000/0.862/0.923/0.120\n",
      "SVM : Train/Valid_Acc/F1/Variance: 0.834/0.834/0.910/0.000\n",
      "  Classifier  Train_Acc  Valid_Acc  Valid_f1  Valid_variance\n",
      "0        LDA   0.960344   0.799701  0.879061       -0.446317\n",
      "1         RF   1.000000   0.862481  0.923333        0.120217\n",
      "2        SVM   0.833895   0.834081  0.909535        0.000000\n",
      " \n",
      "Started Subject 2 data training -------------->\n",
      "LDA : Train/Valid_Acc/F1/Variance: 0.958/0.818/0.890/-0.307\n",
      "RF : Train/Valid_Acc/F1/Variance: 1.000/0.832/0.908/-0.021\n",
      "SVM : Train/Valid_Acc/F1/Variance: 0.834/0.833/0.909/0.000\n",
      "  Classifier  Train_Acc  Valid_Acc  Valid_f1  Valid_variance\n",
      "0        LDA   0.957879   0.818045  0.889699       -0.306534\n",
      "1         RF   1.000000   0.831579  0.907895       -0.021498\n",
      "2        SVM   0.834148   0.833083  0.908942        0.000000\n",
      " \n",
      "Started Subject 3 data training -------------->\n",
      "LDA : Train/Valid_Acc/F1/Variance: 0.981/0.862/0.917/0.008\n",
      "RF : Train/Valid_Acc/F1/Variance: 1.000/0.874/0.930/0.186\n",
      "SVM : Train/Valid_Acc/F1/Variance: 0.835/0.834/0.910/0.000\n",
      "  Classifier  Train_Acc  Valid_Acc  Valid_f1  Valid_variance\n",
      "0        LDA   0.980546   0.862481  0.916817        0.007911\n",
      "1         RF   1.000000   0.874439  0.929530        0.185960\n",
      "2        SVM   0.835017   0.834081  0.909535        0.000000\n",
      " \n",
      "Started Subject 4 data training -------------->\n",
      "LDA : Train/Valid_Acc/F1/Variance: 0.954/0.849/0.910/-0.082\n",
      "RF : Train/Valid_Acc/F1/Variance: 1.000/0.831/0.908/-0.022\n",
      "SVM : Train/Valid_Acc/F1/Variance: 0.834/0.833/0.909/0.000\n",
      "  Classifier  Train_Acc  Valid_Acc  Valid_f1  Valid_variance\n",
      "0        LDA   0.954032   0.849398  0.909747       -0.081668\n",
      "1         RF   1.000000   0.831325  0.907743       -0.021521\n",
      "2        SVM   0.834213   0.832831  0.908792        0.000000\n",
      " \n",
      "Started Subject 5 data training -------------->\n",
      "LDA : Train/Valid_Acc/F1/Variance: 0.977/0.824/0.893/-0.263\n",
      "RF : Train/Valid_Acc/F1/Variance: 1.000/0.859/0.921/0.083\n",
      "SVM : Train/Valid_Acc/F1/Variance: 0.834/0.833/0.909/0.000\n",
      "  Classifier  Train_Acc  Valid_Acc  Valid_f1  Valid_variance\n",
      "0        LDA   0.976515   0.824242  0.893382       -0.263074\n",
      "1         RF   1.000000   0.859091  0.920986        0.083455\n",
      "2        SVM   0.834470   0.833333  0.909091        0.000000\n",
      " \n",
      "Started Subject 6 data training -------------->\n",
      "LDA : Train/Valid_Acc/F1/Variance: 0.984/0.861/0.916/-0.006\n",
      "RF : Train/Valid_Acc/F1/Variance: 1.000/0.847/0.915/0.017\n",
      "SVM : Train/Valid_Acc/F1/Variance: 0.834/0.834/0.910/0.000\n",
      "  Classifier  Train_Acc  Valid_Acc  Valid_f1  Valid_variance\n",
      "0        LDA   0.983686   0.860741  0.916071       -0.005677\n",
      "1         RF   1.000000   0.847407  0.915087        0.017445\n",
      "2        SVM   0.833890   0.834074  0.909532        0.000000\n",
      " \n",
      "Started Subject 7 data training -------------->\n",
      "LDA : Train/Valid_Acc/F1/Variance: 0.994/0.904/0.942/0.311\n",
      "RF : Train/Valid_Acc/F1/Variance: 1.000/0.864/0.923/0.103\n",
      "SVM : Train/Valid_Acc/F1/Variance: 0.835/0.832/0.908/-0.014\n",
      "  Classifier  Train_Acc  Valid_Acc  Valid_f1  Valid_variance\n",
      "0        LDA   0.994003   0.904192  0.941924        0.310851\n",
      "1         RF   1.000000   0.863772  0.923336        0.102997\n",
      "2        SVM   0.835457   0.832335  0.908497       -0.014379\n",
      " \n",
      "Started Subject 8 data training -------------->\n",
      "LDA : Train/Valid_Acc/F1/Variance: 0.963/0.831/0.898/-0.219\n",
      "RF : Train/Valid_Acc/F1/Variance: 1.000/0.828/0.906/-0.065\n",
      "SVM : Train/Valid_Acc/F1/Variance: 0.833/0.834/0.909/0.000\n",
      "  Classifier  Train_Acc  Valid_Acc  Valid_f1  Valid_variance\n",
      "0        LDA   0.963313   0.830816  0.897623   -2.194335e-01\n",
      "1         RF   1.000000   0.827795  0.905629   -6.475626e-02\n",
      "2        SVM   0.833207   0.833837  0.909390    2.220446e-16\n",
      " \n",
      "Time taken:  0 h : 02 mins : 46 secs\n"
     ]
    }
   ],
   "source": [
    "start = dt.now()\n",
    "\n",
    "for s in range(len(data)):\n",
    "    subject = data[s]\n",
    "    X, y = get_subject_data(subject)\n",
    "    X_train, X_test, y_train, y_test = train_test_split(X, y, train_size = 0.8, random_state=42, stratify = y)\n",
    "    print('Started Subject %s data training -------------->' % (s+1))\n",
    "    res_models_ss = evaluate_models_with_normalization2222(classifiers, X_train, X_test, y_train, y_test)\n",
    "    print(res_models_ss)\n",
    "    print(\" \")\n",
    "    \n",
    "running_secs = (dt.now() - start).seconds\n",
    "print(convert(running_secs))"
   ]
  },
  {
   "cell_type": "markdown",
   "metadata": {},
   "source": [
    "## Apply CAR and/or Band-pass filter"
   ]
  },
  {
   "cell_type": "code",
   "execution_count": 49,
   "metadata": {},
   "outputs": [],
   "source": [
    "data = loaddata(itemname[2])"
   ]
  },
  {
   "cell_type": "code",
   "execution_count": 50,
   "metadata": {},
   "outputs": [
    {
     "name": "stdout",
     "output_type": "stream",
     "text": [
      "EEG channel type selected for re-referencing\n",
      "Applying average reference.\n",
      "Applying a custom ('EEG',) reference.\n",
      "Started Subject 1 data training -------------->\n",
      "KNN model finished training\n",
      "LR model finished training\n",
      "LDA model finished training\n",
      "RF model finished training\n",
      "SVM model finished training\n",
      "MLP model finished training\n",
      "  Classifier  Train_Acc  Valid_Acc\n",
      "0        KNN   1.000000   0.837070\n",
      "1         LR   0.902357   0.846039\n",
      "2        LDA   0.961092   0.783259\n",
      "3         RF   1.000000   0.857997\n",
      "4        SVM   0.834269   0.834081\n",
      "5        MLP   0.976431   0.820628\n",
      " \n",
      "EEG channel type selected for re-referencing\n",
      "Applying average reference.\n",
      "Applying a custom ('EEG',) reference.\n",
      "Started Subject 2 data training -------------->\n",
      "KNN model finished training\n",
      "LR model finished training\n",
      "LDA model finished training\n",
      "RF model finished training\n",
      "SVM model finished training\n",
      "MLP model finished training\n",
      "  Classifier  Train_Acc  Valid_Acc\n",
      "0        KNN   1.000000   0.834586\n",
      "1         LR   0.893569   0.854135\n",
      "2        LDA   0.963520   0.798496\n",
      "3         RF   1.000000   0.842105\n",
      "4        SVM   0.835276   0.833083\n",
      "5        MLP   0.903723   0.843609\n",
      " \n",
      "EEG channel type selected for re-referencing\n",
      "Applying average reference.\n",
      "Applying a custom ('EEG',) reference.\n",
      "Started Subject 3 data training -------------->\n",
      "KNN model finished training\n",
      "LR model finished training\n",
      "LDA model finished training\n",
      "RF model finished training\n",
      "SVM model finished training\n",
      "MLP model finished training\n",
      "  Classifier  Train_Acc  Valid_Acc\n",
      "0        KNN   1.000000   0.880419\n",
      "1         LR   0.934530   0.895366\n",
      "2        LDA   0.981669   0.850523\n",
      "3         RF   1.000000   0.875934\n",
      "4        SVM   0.835017   0.834081\n",
      "5        MLP   0.933408   0.895366\n",
      " \n",
      "EEG channel type selected for re-referencing\n",
      "Applying average reference.\n",
      "Applying a custom ('EEG',) reference.\n",
      "Started Subject 4 data training -------------->\n",
      "KNN model finished training\n",
      "LR model finished training\n",
      "LDA model finished training\n",
      "RF model finished training\n",
      "SVM model finished training\n",
      "MLP model finished training\n",
      "  Classifier  Train_Acc  Valid_Acc\n",
      "0        KNN   1.000000   0.837349\n",
      "1         LR   0.929540   0.873494\n",
      "2        LDA   0.972118   0.801205\n",
      "3         RF   1.000000   0.831325\n",
      "4        SVM   0.834966   0.832831\n",
      "5        MLP   1.000000   0.862952\n",
      " \n",
      "EEG channel type selected for re-referencing\n",
      "Applying average reference.\n",
      "Applying a custom ('EEG',) reference.\n",
      "Started Subject 5 data training -------------->\n",
      "KNN model finished training\n",
      "LR model finished training\n",
      "LDA model finished training\n",
      "RF model finished training\n",
      "SVM model finished training\n",
      "MLP model finished training\n",
      "  Classifier  Train_Acc  Valid_Acc\n",
      "0        KNN   1.000000   0.845455\n",
      "1         LR   0.929924   0.889394\n",
      "2        LDA   0.973864   0.825758\n",
      "3         RF   1.000000   0.863636\n",
      "4        SVM   0.835227   0.833333\n",
      "5        MLP   0.949621   0.903030\n",
      " \n",
      "EEG channel type selected for re-referencing\n",
      "Applying average reference.\n",
      "Applying a custom ('EEG',) reference.\n",
      "Started Subject 6 data training -------------->\n",
      "KNN model finished training\n",
      "LR model finished training\n",
      "LDA model finished training\n",
      "RF model finished training\n",
      "SVM model finished training\n",
      "MLP model finished training\n",
      "  Classifier  Train_Acc  Valid_Acc\n",
      "0        KNN   1.000000   0.838519\n",
      "1         LR   0.919911   0.880000\n",
      "2        LDA   0.981461   0.860741\n",
      "3         RF   1.000000   0.842963\n",
      "4        SVM   0.833890   0.834074\n",
      "5        MLP   0.939562   0.877037\n",
      " \n",
      "EEG channel type selected for re-referencing\n",
      "Applying average reference.\n",
      "Applying a custom ('EEG',) reference.\n",
      "Started Subject 7 data training -------------->\n",
      "KNN model finished training\n",
      "LR model finished training\n",
      "LDA model finished training\n",
      "RF model finished training\n",
      "SVM model finished training\n",
      "MLP model finished training\n",
      "  Classifier  Train_Acc  Valid_Acc\n",
      "0        KNN   1.000000   0.824850\n",
      "1         LR   0.957271   0.932635\n",
      "2        LDA   0.994378   0.904192\n",
      "3         RF   1.000000   0.853293\n",
      "4        SVM   0.836207   0.830838\n",
      "5        MLP   1.000000   0.935629\n",
      " \n",
      "EEG channel type selected for re-referencing\n",
      "Applying average reference.\n",
      "Applying a custom ('EEG',) reference.\n",
      "Started Subject 8 data training -------------->\n",
      "KNN model finished training\n",
      "LR model finished training\n",
      "LDA model finished training\n",
      "RF model finished training\n",
      "SVM model finished training\n",
      "MLP model finished training\n",
      "  Classifier  Train_Acc  Valid_Acc\n",
      "0        KNN   1.000000   0.832326\n",
      "1         LR   0.919818   0.850453\n",
      "2        LDA   0.977685   0.788520\n",
      "3         RF   1.000000   0.833837\n",
      "4        SVM   0.833207   0.833837\n",
      "5        MLP   0.999244   0.856495\n",
      " \n",
      "Time taken:  0 h : 05 mins : 47 secs\n"
     ]
    }
   ],
   "source": [
    "start = dt.now()\n",
    "\n",
    "for s in range(len(data)):\n",
    "    subject = data[s]\n",
    "    subject.set_eeg_reference(ref_channels='average')\n",
    "    X, y = get_subject_data(subject)\n",
    "    X_train, X_test, y_train, y_test = train_test_split(X, y, train_size = 0.8, random_state=42, stratify = y)\n",
    "    print('Started Subject %s data training -------------->' % (s+1))\n",
    "    res_models_ss = evaluate_models_with_normalization(classifiers, X_train, X_test, y_train, y_test)\n",
    "    print(res_models_ss)\n",
    "    print(\" \")\n",
    "    \n",
    "running_secs = (dt.now() - start).seconds\n",
    "print(convert(running_secs))"
   ]
  },
  {
   "cell_type": "markdown",
   "metadata": {},
   "source": [
    "## ICA Decomposition"
   ]
  },
  {
   "cell_type": "code",
   "execution_count": 51,
   "metadata": {},
   "outputs": [],
   "source": [
    "ica = mne.preprocessing.ICA(n_components=32, random_state=0) #n_components = less than or equal to the number of channels"
   ]
  },
  {
   "cell_type": "code",
   "execution_count": 52,
   "metadata": {},
   "outputs": [],
   "source": [
    "data = loaddata(itemname[2])"
   ]
  },
  {
   "cell_type": "code",
   "execution_count": 53,
   "metadata": {},
   "outputs": [
    {
     "name": "stdout",
     "output_type": "stream",
     "text": [
      "Setting up band-pass filter from 8 - 35 Hz\n",
      "\n",
      "FIR filter parameters\n",
      "---------------------\n",
      "Designing a one-pass, zero-phase, non-causal bandpass filter:\n",
      "- Windowed time-domain design (firwin) method\n",
      "- Hamming window with 0.0194 passband ripple and 53 dB stopband attenuation\n",
      "- Lower passband edge: 8.00\n",
      "- Lower transition bandwidth: 2.00 Hz (-6 dB cutoff frequency: 7.00 Hz)\n",
      "- Upper passband edge: 35.00 Hz\n",
      "- Upper transition bandwidth: 8.75 Hz (-6 dB cutoff frequency: 39.38 Hz)\n",
      "- Filter length: 213 samples (1.664 sec)\n",
      "\n"
     ]
    },
    {
     "name": "stderr",
     "output_type": "stream",
     "text": [
      "[Parallel(n_jobs=1)]: Using backend SequentialBackend with 1 concurrent workers.\n",
      "[Parallel(n_jobs=1)]: Done   1 out of   1 | elapsed:    0.0s remaining:    0.0s\n",
      "[Parallel(n_jobs=1)]: Done   2 out of   2 | elapsed:    0.0s remaining:    0.0s\n",
      "[Parallel(n_jobs=1)]: Done   3 out of   3 | elapsed:    0.0s remaining:    0.0s\n",
      "[Parallel(n_jobs=1)]: Done   4 out of   4 | elapsed:    0.0s remaining:    0.0s\n"
     ]
    },
    {
     "name": "stdout",
     "output_type": "stream",
     "text": [
      "Fitting ICA to data using 32 channels (please be patient, this may take a while)\n"
     ]
    },
    {
     "name": "stderr",
     "output_type": "stream",
     "text": [
      "[Parallel(n_jobs=1)]: Done 106944 out of 106944 | elapsed:   21.0s finished\n"
     ]
    },
    {
     "name": "stdout",
     "output_type": "stream",
     "text": [
      "Selecting by number: 32 components\n",
      "Fitting ICA took 14.4s.\n",
      "Using EOG channel: Fz\n",
      "Applying ICA to Epochs instance\n",
      "    Transforming to ICA space (32 components)\n",
      "    Zeroing out 4 ICA components\n",
      "    Projecting back using 32 PCA components\n",
      "Setting up band-pass filter from 8 - 35 Hz\n",
      "\n",
      "FIR filter parameters\n",
      "---------------------\n",
      "Designing a one-pass, zero-phase, non-causal bandpass filter:\n",
      "- Windowed time-domain design (firwin) method\n",
      "- Hamming window with 0.0194 passband ripple and 53 dB stopband attenuation\n",
      "- Lower passband edge: 8.00\n",
      "- Lower transition bandwidth: 2.00 Hz (-6 dB cutoff frequency: 7.00 Hz)\n",
      "- Upper passband edge: 35.00 Hz\n",
      "- Upper transition bandwidth: 8.75 Hz (-6 dB cutoff frequency: 39.38 Hz)\n",
      "- Filter length: 213 samples (1.664 sec)\n",
      "\n"
     ]
    },
    {
     "name": "stderr",
     "output_type": "stream",
     "text": [
      "[Parallel(n_jobs=1)]: Using backend SequentialBackend with 1 concurrent workers.\n",
      "[Parallel(n_jobs=1)]: Done   1 out of   1 | elapsed:    0.0s remaining:    0.0s\n",
      "[Parallel(n_jobs=1)]: Done   2 out of   2 | elapsed:    0.0s remaining:    0.0s\n",
      "[Parallel(n_jobs=1)]: Done   3 out of   3 | elapsed:    0.0s remaining:    0.0s\n",
      "[Parallel(n_jobs=1)]: Done   4 out of   4 | elapsed:    0.0s remaining:    0.0s\n"
     ]
    },
    {
     "name": "stdout",
     "output_type": "stream",
     "text": [
      "Fitting ICA to data using 32 channels (please be patient, this may take a while)\n"
     ]
    },
    {
     "name": "stderr",
     "output_type": "stream",
     "text": [
      "[Parallel(n_jobs=1)]: Done 106368 out of 106368 | elapsed:   21.2s finished\n"
     ]
    },
    {
     "name": "stdout",
     "output_type": "stream",
     "text": [
      "Selecting by number: 32 components\n",
      "Fitting ICA took 12.6s.\n",
      "Using EOG channel: Fz\n",
      "Applying ICA to Epochs instance\n",
      "    Transforming to ICA space (32 components)\n",
      "    Zeroing out 4 ICA components\n",
      "    Projecting back using 32 PCA components\n",
      "Setting up band-pass filter from 8 - 35 Hz\n",
      "\n",
      "FIR filter parameters\n",
      "---------------------\n",
      "Designing a one-pass, zero-phase, non-causal bandpass filter:\n",
      "- Windowed time-domain design (firwin) method\n",
      "- Hamming window with 0.0194 passband ripple and 53 dB stopband attenuation\n",
      "- Lower passband edge: 8.00\n",
      "- Lower transition bandwidth: 2.00 Hz (-6 dB cutoff frequency: 7.00 Hz)\n",
      "- Upper passband edge: 35.00 Hz\n",
      "- Upper transition bandwidth: 8.75 Hz (-6 dB cutoff frequency: 39.38 Hz)\n",
      "- Filter length: 213 samples (1.664 sec)\n",
      "\n"
     ]
    },
    {
     "name": "stderr",
     "output_type": "stream",
     "text": [
      "[Parallel(n_jobs=1)]: Using backend SequentialBackend with 1 concurrent workers.\n",
      "[Parallel(n_jobs=1)]: Done   1 out of   1 | elapsed:    0.0s remaining:    0.0s\n",
      "[Parallel(n_jobs=1)]: Done   2 out of   2 | elapsed:    0.0s remaining:    0.0s\n",
      "[Parallel(n_jobs=1)]: Done   3 out of   3 | elapsed:    0.0s remaining:    0.0s\n",
      "[Parallel(n_jobs=1)]: Done   4 out of   4 | elapsed:    0.0s remaining:    0.0s\n"
     ]
    },
    {
     "name": "stdout",
     "output_type": "stream",
     "text": [
      "Fitting ICA to data using 32 channels (please be patient, this may take a while)\n"
     ]
    },
    {
     "name": "stderr",
     "output_type": "stream",
     "text": [
      "[Parallel(n_jobs=1)]: Done 106944 out of 106944 | elapsed:   20.4s finished\n"
     ]
    },
    {
     "name": "stdout",
     "output_type": "stream",
     "text": [
      "Selecting by number: 32 components\n",
      "Fitting ICA took 14.0s.\n",
      "Using EOG channel: Fz\n",
      "Applying ICA to Epochs instance\n",
      "    Transforming to ICA space (32 components)\n",
      "    Zeroing out 2 ICA components\n",
      "    Projecting back using 32 PCA components\n",
      "Setting up band-pass filter from 8 - 35 Hz\n",
      "\n",
      "FIR filter parameters\n",
      "---------------------\n",
      "Designing a one-pass, zero-phase, non-causal bandpass filter:\n",
      "- Windowed time-domain design (firwin) method\n",
      "- Hamming window with 0.0194 passband ripple and 53 dB stopband attenuation\n",
      "- Lower passband edge: 8.00\n",
      "- Lower transition bandwidth: 2.00 Hz (-6 dB cutoff frequency: 7.00 Hz)\n",
      "- Upper passband edge: 35.00 Hz\n",
      "- Upper transition bandwidth: 8.75 Hz (-6 dB cutoff frequency: 39.38 Hz)\n",
      "- Filter length: 213 samples (1.664 sec)\n",
      "\n"
     ]
    },
    {
     "name": "stderr",
     "output_type": "stream",
     "text": [
      "[Parallel(n_jobs=1)]: Using backend SequentialBackend with 1 concurrent workers.\n",
      "[Parallel(n_jobs=1)]: Done   1 out of   1 | elapsed:    0.0s remaining:    0.0s\n",
      "[Parallel(n_jobs=1)]: Done   2 out of   2 | elapsed:    0.0s remaining:    0.0s\n",
      "[Parallel(n_jobs=1)]: Done   3 out of   3 | elapsed:    0.0s remaining:    0.0s\n",
      "[Parallel(n_jobs=1)]: Done   4 out of   4 | elapsed:    0.0s remaining:    0.0s\n"
     ]
    },
    {
     "name": "stdout",
     "output_type": "stream",
     "text": [
      "Fitting ICA to data using 32 channels (please be patient, this may take a while)\n"
     ]
    },
    {
     "name": "stderr",
     "output_type": "stream",
     "text": [
      "[Parallel(n_jobs=1)]: Done 106176 out of 106176 | elapsed:   21.1s finished\n"
     ]
    },
    {
     "name": "stdout",
     "output_type": "stream",
     "text": [
      "Selecting by number: 32 components\n",
      "Fitting ICA took 19.2s.\n",
      "Using EOG channel: Fz\n",
      "Applying ICA to Epochs instance\n",
      "    Transforming to ICA space (32 components)\n",
      "    Zeroing out 3 ICA components\n",
      "    Projecting back using 32 PCA components\n",
      "Setting up band-pass filter from 8 - 35 Hz\n",
      "\n",
      "FIR filter parameters\n",
      "---------------------\n",
      "Designing a one-pass, zero-phase, non-causal bandpass filter:\n",
      "- Windowed time-domain design (firwin) method\n",
      "- Hamming window with 0.0194 passband ripple and 53 dB stopband attenuation\n",
      "- Lower passband edge: 8.00\n",
      "- Lower transition bandwidth: 2.00 Hz (-6 dB cutoff frequency: 7.00 Hz)\n",
      "- Upper passband edge: 35.00 Hz\n",
      "- Upper transition bandwidth: 8.75 Hz (-6 dB cutoff frequency: 39.38 Hz)\n",
      "- Filter length: 213 samples (1.664 sec)\n",
      "\n"
     ]
    },
    {
     "name": "stderr",
     "output_type": "stream",
     "text": [
      "[Parallel(n_jobs=1)]: Using backend SequentialBackend with 1 concurrent workers.\n",
      "[Parallel(n_jobs=1)]: Done   1 out of   1 | elapsed:    0.0s remaining:    0.0s\n",
      "[Parallel(n_jobs=1)]: Done   2 out of   2 | elapsed:    0.0s remaining:    0.0s\n",
      "[Parallel(n_jobs=1)]: Done   3 out of   3 | elapsed:    0.0s remaining:    0.0s\n",
      "[Parallel(n_jobs=1)]: Done   4 out of   4 | elapsed:    0.0s remaining:    0.0s\n"
     ]
    },
    {
     "name": "stdout",
     "output_type": "stream",
     "text": [
      "Fitting ICA to data using 32 channels (please be patient, this may take a while)\n"
     ]
    },
    {
     "name": "stderr",
     "output_type": "stream",
     "text": [
      "[Parallel(n_jobs=1)]: Done 105600 out of 105600 | elapsed:   20.9s finished\n"
     ]
    },
    {
     "name": "stdout",
     "output_type": "stream",
     "text": [
      "Selecting by number: 32 components\n",
      "Fitting ICA took 14.7s.\n",
      "Using EOG channel: Fz\n",
      "Applying ICA to Epochs instance\n",
      "    Transforming to ICA space (32 components)\n",
      "    Zeroing out 8 ICA components\n",
      "    Projecting back using 32 PCA components\n",
      "Setting up band-pass filter from 8 - 35 Hz\n",
      "\n",
      "FIR filter parameters\n",
      "---------------------\n",
      "Designing a one-pass, zero-phase, non-causal bandpass filter:\n",
      "- Windowed time-domain design (firwin) method\n",
      "- Hamming window with 0.0194 passband ripple and 53 dB stopband attenuation\n",
      "- Lower passband edge: 8.00\n",
      "- Lower transition bandwidth: 2.00 Hz (-6 dB cutoff frequency: 7.00 Hz)\n",
      "- Upper passband edge: 35.00 Hz\n",
      "- Upper transition bandwidth: 8.75 Hz (-6 dB cutoff frequency: 39.38 Hz)\n",
      "- Filter length: 213 samples (1.664 sec)\n",
      "\n"
     ]
    },
    {
     "name": "stderr",
     "output_type": "stream",
     "text": [
      "[Parallel(n_jobs=1)]: Using backend SequentialBackend with 1 concurrent workers.\n",
      "[Parallel(n_jobs=1)]: Done   1 out of   1 | elapsed:    0.0s remaining:    0.0s\n",
      "[Parallel(n_jobs=1)]: Done   2 out of   2 | elapsed:    0.0s remaining:    0.0s\n",
      "[Parallel(n_jobs=1)]: Done   3 out of   3 | elapsed:    0.0s remaining:    0.0s\n",
      "[Parallel(n_jobs=1)]: Done   4 out of   4 | elapsed:    0.0s remaining:    0.0s\n"
     ]
    },
    {
     "name": "stdout",
     "output_type": "stream",
     "text": [
      "Fitting ICA to data using 32 channels (please be patient, this may take a while)\n"
     ]
    },
    {
     "name": "stderr",
     "output_type": "stream",
     "text": [
      "[Parallel(n_jobs=1)]: Done 107904 out of 107904 | elapsed:   20.5s finished\n"
     ]
    },
    {
     "name": "stdout",
     "output_type": "stream",
     "text": [
      "Selecting by number: 32 components\n",
      "Fitting ICA took 13.8s.\n",
      "Using EOG channel: Fz\n",
      "Applying ICA to Epochs instance\n",
      "    Transforming to ICA space (32 components)\n",
      "    Zeroing out 5 ICA components\n",
      "    Projecting back using 32 PCA components\n",
      "Setting up band-pass filter from 8 - 35 Hz\n",
      "\n",
      "FIR filter parameters\n",
      "---------------------\n",
      "Designing a one-pass, zero-phase, non-causal bandpass filter:\n",
      "- Windowed time-domain design (firwin) method\n",
      "- Hamming window with 0.0194 passband ripple and 53 dB stopband attenuation\n",
      "- Lower passband edge: 8.00\n",
      "- Lower transition bandwidth: 2.00 Hz (-6 dB cutoff frequency: 7.00 Hz)\n",
      "- Upper passband edge: 35.00 Hz\n",
      "- Upper transition bandwidth: 8.75 Hz (-6 dB cutoff frequency: 39.38 Hz)\n",
      "- Filter length: 213 samples (1.664 sec)\n",
      "\n"
     ]
    },
    {
     "name": "stderr",
     "output_type": "stream",
     "text": [
      "[Parallel(n_jobs=1)]: Using backend SequentialBackend with 1 concurrent workers.\n",
      "[Parallel(n_jobs=1)]: Done   1 out of   1 | elapsed:    0.0s remaining:    0.0s\n",
      "[Parallel(n_jobs=1)]: Done   2 out of   2 | elapsed:    0.0s remaining:    0.0s\n",
      "[Parallel(n_jobs=1)]: Done   3 out of   3 | elapsed:    0.0s remaining:    0.0s\n",
      "[Parallel(n_jobs=1)]: Done   4 out of   4 | elapsed:    0.0s remaining:    0.0s\n"
     ]
    },
    {
     "name": "stdout",
     "output_type": "stream",
     "text": [
      "Fitting ICA to data using 32 channels (please be patient, this may take a while)\n"
     ]
    },
    {
     "name": "stderr",
     "output_type": "stream",
     "text": [
      "[Parallel(n_jobs=1)]: Done 106752 out of 106752 | elapsed:   20.9s finished\n"
     ]
    },
    {
     "name": "stdout",
     "output_type": "stream",
     "text": [
      "Selecting by number: 32 components\n",
      "Fitting ICA took 19.1s.\n",
      "Using EOG channel: Fz\n",
      "Applying ICA to Epochs instance\n",
      "    Transforming to ICA space (32 components)\n",
      "    Zeroing out 4 ICA components\n",
      "    Projecting back using 32 PCA components\n",
      "Setting up band-pass filter from 8 - 35 Hz\n",
      "\n",
      "FIR filter parameters\n",
      "---------------------\n",
      "Designing a one-pass, zero-phase, non-causal bandpass filter:\n",
      "- Windowed time-domain design (firwin) method\n",
      "- Hamming window with 0.0194 passband ripple and 53 dB stopband attenuation\n",
      "- Lower passband edge: 8.00\n",
      "- Lower transition bandwidth: 2.00 Hz (-6 dB cutoff frequency: 7.00 Hz)\n",
      "- Upper passband edge: 35.00 Hz\n",
      "- Upper transition bandwidth: 8.75 Hz (-6 dB cutoff frequency: 39.38 Hz)\n",
      "- Filter length: 213 samples (1.664 sec)\n",
      "\n"
     ]
    },
    {
     "name": "stderr",
     "output_type": "stream",
     "text": [
      "[Parallel(n_jobs=1)]: Using backend SequentialBackend with 1 concurrent workers.\n",
      "[Parallel(n_jobs=1)]: Done   1 out of   1 | elapsed:    0.0s remaining:    0.0s\n",
      "[Parallel(n_jobs=1)]: Done   2 out of   2 | elapsed:    0.0s remaining:    0.0s\n",
      "[Parallel(n_jobs=1)]: Done   3 out of   3 | elapsed:    0.0s remaining:    0.0s\n",
      "[Parallel(n_jobs=1)]: Done   4 out of   4 | elapsed:    0.0s remaining:    0.0s\n"
     ]
    },
    {
     "name": "stdout",
     "output_type": "stream",
     "text": [
      "Fitting ICA to data using 32 channels (please be patient, this may take a while)\n"
     ]
    },
    {
     "name": "stderr",
     "output_type": "stream",
     "text": [
      "[Parallel(n_jobs=1)]: Done 105792 out of 105792 | elapsed:   19.2s finished\n"
     ]
    },
    {
     "name": "stdout",
     "output_type": "stream",
     "text": [
      "Selecting by number: 32 components\n",
      "Fitting ICA took 14.6s.\n",
      "Using EOG channel: Fz\n",
      "Applying ICA to Epochs instance\n",
      "    Transforming to ICA space (32 components)\n",
      "    Zeroing out 5 ICA components\n",
      "    Projecting back using 32 PCA components\n"
     ]
    }
   ],
   "source": [
    "X,y = [],[]\n",
    "\n",
    "for i in range(len(data)):\n",
    "    # ICA applied for each subject separately\n",
    "    ica.fit(data[i].copy().filter(8, 35))\n",
    "    bad_idx, scores = ica.find_bads_eog(data[i], 'Fz', threshold=1.5)\n",
    "    ica.exclude = bad_idx\n",
    "    subj = ica.apply(data[i].copy(), exclude=ica.exclude)\n",
    "    \n",
    "    # Adding each subject to a an array\n",
    "    epoch = subj.pick_types(eeg=True)\n",
    "    d = epoch.get_data()\n",
    "    X.append(d)    \n",
    "    l = epoch.events[:, -1]\n",
    "    y.append(l)"
   ]
  },
  {
   "cell_type": "code",
   "execution_count": 54,
   "metadata": {},
   "outputs": [],
   "source": [
    "nX = np.concatenate(X)\n",
    "nX = np.reshape(nX,[26640, 32*77])"
   ]
  },
  {
   "cell_type": "code",
   "execution_count": 55,
   "metadata": {},
   "outputs": [],
   "source": [
    "nY = np.empty(shape = y[0].shape)\n",
    "for i in range(len(y)):\n",
    "    nY = np.concatenate([nY,y[i]])\n",
    "nY = np.concatenate(y)"
   ]
  },
  {
   "cell_type": "code",
   "execution_count": 56,
   "metadata": {},
   "outputs": [],
   "source": [
    "X_train, X_test, y_train, y_test = train_test_split(nX, nY, train_size = 0.8, random_state=42, stratify = nY)"
   ]
  },
  {
   "cell_type": "code",
   "execution_count": 57,
   "metadata": {},
   "outputs": [
    {
     "name": "stdout",
     "output_type": "stream",
     "text": [
      "KNN : Train/Valid Acc: 1.000/0.835\n",
      "LR : Train/Valid Acc: 0.687/0.651\n",
      "LDA : Train/Valid Acc: 0.849/0.828\n",
      "RF : Train/Valid Acc: 1.000/0.832\n",
      "SVM : Train/Valid Acc: 0.835/0.833\n",
      "MLP : Train/Valid Acc: 0.809/0.804\n",
      "  Classifier  Train_Acc  Valid_Acc\n",
      "0        KNN   1.000000   0.835023\n",
      "1         LR   0.687125   0.650901\n",
      "2        LDA   0.849334   0.828078\n",
      "3         RF   1.000000   0.831832\n",
      "4        SVM   0.834788   0.833333\n",
      "5        MLP   0.808746   0.804429\n",
      "Time taken:  0 h : 11 mins : 09 secs\n"
     ]
    }
   ],
   "source": [
    "start = dt.now()\n",
    "\n",
    "res_models_ica = evaluate_models(classifiers, X_train, X_test, y_train, y_test)\n",
    "\n",
    "running_secs = (dt.now() - start).seconds\n",
    "print(convert(running_secs))"
   ]
  },
  {
   "cell_type": "code",
   "execution_count": null,
   "metadata": {},
   "outputs": [],
   "source": []
  }
 ],
 "metadata": {
  "accelerator": "GPU",
  "colab": {
   "collapsed_sections": [],
   "provenance": []
  },
  "kernelspec": {
   "display_name": "Python 3 (ipykernel)",
   "language": "python",
   "name": "python3"
  },
  "language_info": {
   "codemirror_mode": {
    "name": "ipython",
    "version": 3
   },
   "file_extension": ".py",
   "mimetype": "text/x-python",
   "name": "python",
   "nbconvert_exporter": "python",
   "pygments_lexer": "ipython3",
   "version": "3.7.13"
  }
 },
 "nbformat": 4,
 "nbformat_minor": 1
}
